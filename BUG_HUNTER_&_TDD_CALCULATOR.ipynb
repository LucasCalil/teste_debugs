{
  "nbformat": 4,
  "nbformat_minor": 0,
  "metadata": {
    "colab": {
      "provenance": []
    },
    "kernelspec": {
      "name": "python3",
      "display_name": "Python 3"
    },
    "language_info": {
      "name": "python"
    }
  },
  "cells": [
    {
      "cell_type": "markdown",
      "source": [
        "# Passo 1: Clonar o Repositório do GitHub"
      ],
      "metadata": {
        "id": "y9swKeIJORfm"
      }
    },
    {
      "cell_type": "code",
      "source": [
        "!git clone https://github.com/LucasCalil/teste_debugs\n",
        "\n",
        "import os\n",
        "# Mude para o diretório desejado\n",
        "os.chdir(\"./teste_debugs\")\n",
        "\n",
        "# Confirme o diretório atual\n",
        "print(os.getcwd())\n",
        "\n",
        "# Listar os arquivos do repositório\n",
        "!ls"
      ],
      "metadata": {
        "colab": {
          "base_uri": "https://localhost:8080/"
        },
        "id": "p9pUgqqI05za",
        "outputId": "6cb03e5e-2ca2-4125-ed1d-d18e8b1d9236"
      },
      "execution_count": 1,
      "outputs": [
        {
          "output_type": "stream",
          "name": "stdout",
          "text": [
            "fatal: destination path 'teste_debugs' already exists and is not an empty directory.\n",
            "/content/teste_debugs\n",
            "Bugs.txt  Calculadora.py  __pycache__  test_calculadora.py  teste_debugs\n"
          ]
        }
      ]
    },
    {
      "cell_type": "markdown",
      "source": [
        "# Passo 2: Configurar o Ambiente no Google Colab"
      ],
      "metadata": {
        "id": "Jab5XcPlPB_E"
      }
    },
    {
      "cell_type": "code",
      "source": [
        "# Importar funções diretamente do arquivo Calculadora.py\n",
        "from Calculadora import *"
      ],
      "metadata": {
        "colab": {
          "base_uri": "https://localhost:8080/"
        },
        "id": "2Rg3KmBJPDO0",
        "outputId": "0006654a-c24e-4da6-acf6-6eaf4390b64f"
      },
      "execution_count": 2,
      "outputs": [
        {
          "output_type": "stream",
          "name": "stdout",
          "text": [
            "Bem-vindo à Calculadora Científica\n",
            "Escolha a operação que deseja realizar:\n",
            "0. Sair\n",
            "1. Adição\n",
            "2. Subtração\n",
            "3. Multiplicação\n",
            "4. Divisão\n",
            "5. Potenciação\n",
            "6. Raiz Quadrada\n",
            "7. Fatorial\n",
            "8. Logaritmo Natural (ln)\n",
            "9. Logaritmo Base 10\n",
            "10. Seno\n",
            "11. Cosseno\n",
            "12. Tangente\n",
            "Digite o número da operação: 0\n",
            "Calculadora encerrada.\n"
          ]
        }
      ]
    },
    {
      "cell_type": "markdown",
      "source": [
        "# Passo 3: Identificação de Bugs"
      ],
      "metadata": {
        "id": "hL1h-6TaPfMs"
      }
    },
    {
      "cell_type": "code",
      "source": [
        "# Relatório de bugs\n",
        "bugs = \"\"\"\n",
        "1. Erro na função adicao: A operação está sendo duplicada ao usar np.add.\n",
        "2. Erro na função fatorial: Lógica incorreta no cálculo do fatorial.\n",
        "3. Erro na função logaritmo_natural: Chamada incorreta de np.ln em vez de np.log.\n",
        "4. Erro na função logaritmo_base10: Não considera casos onde x == 0.\n",
        "\"\"\"\n",
        "with open(\"Bugs.txt\", \"w\") as f:\n",
        "    f.write(bugs)\n",
        "print(\"Relatório de bugs criado:\")\n",
        "print(bugs)\n"
      ],
      "metadata": {
        "colab": {
          "base_uri": "https://localhost:8080/"
        },
        "id": "LAF4Ywy0PEBU",
        "outputId": "49e91d07-062b-48e9-8d5d-8530782de4ab"
      },
      "execution_count": 3,
      "outputs": [
        {
          "output_type": "stream",
          "name": "stdout",
          "text": [
            "Relatório de bugs criado:\n",
            "\n",
            "1. Erro na função adicao: A operação está sendo duplicada ao usar np.add.\n",
            "2. Erro na função fatorial: Lógica incorreta no cálculo do fatorial.\n",
            "3. Erro na função logaritmo_natural: Chamada incorreta de np.ln em vez de np.log.\n",
            "4. Erro na função logaritmo_base10: Não considera casos onde x == 0.\n",
            "\n"
          ]
        }
      ]
    },
    {
      "cell_type": "markdown",
      "source": [
        "# Passo 4: Implementar Testes com TDD"
      ],
      "metadata": {
        "id": "sy_Tg-hhP-u2"
      }
    },
    {
      "cell_type": "code",
      "source": [
        "# Escrevendo testes no arquivo test_calculadora.py\n",
        "%%writefile test_calculadora.py\n",
        "import unittest\n",
        "from Calculadora import *\n",
        "\n",
        "class TestCalculadora(unittest.TestCase):\n",
        "\n",
        "    def test_adicao(self):\n",
        "        self.assertEqual(adicao(2, 3), 5, \"Erro na função de adição\")\n",
        "\n",
        "    def test_fatorial(self):\n",
        "        self.assertEqual(fatorial(5), 120, \"Erro na função de fatorial\")\n",
        "\n",
        "    def test_logaritmo_natural(self):\n",
        "        self.assertEqual(logaritmo_natural(1), 0, \"Erro no logaritmo natural\")\n",
        "\n",
        "    def test_logaritmo_base10(self):\n",
        "        self.assertEqual(logaritmo_base10(1), 0, \"Erro no logaritmo base 10\")\n",
        "\n",
        "if __name__ == \"__main__\":\n",
        "    unittest.main()\n"
      ],
      "metadata": {
        "colab": {
          "base_uri": "https://localhost:8080/"
        },
        "id": "aGv0RFRGPD_N",
        "outputId": "848432a9-3dd4-4226-b886-76a90b9e5027"
      },
      "execution_count": 4,
      "outputs": [
        {
          "output_type": "stream",
          "name": "stdout",
          "text": [
            "Overwriting test_calculadora.py\n"
          ]
        }
      ]
    },
    {
      "cell_type": "code",
      "source": [
        "# Executar os testes\n",
        "!python test_calculadora.py\n"
      ],
      "metadata": {
        "colab": {
          "base_uri": "https://localhost:8080/"
        },
        "id": "bj2Us2WePD89",
        "outputId": "93153e80-8806-458d-adfc-d026d898e4cc"
      },
      "execution_count": 5,
      "outputs": [
        {
          "output_type": "stream",
          "name": "stdout",
          "text": [
            "Bem-vindo à Calculadora Científica\n",
            "Escolha a operação que deseja realizar:\n",
            "0. Sair\n",
            "1. Adição\n",
            "2. Subtração\n",
            "3. Multiplicação\n",
            "4. Divisão\n",
            "5. Potenciação\n",
            "6. Raiz Quadrada\n",
            "7. Fatorial\n",
            "8. Logaritmo Natural (ln)\n",
            "9. Logaritmo Base 10\n",
            "10. Seno\n",
            "11. Cosseno\n",
            "12. Tangente\n",
            "Digite o número da operação: 8\n",
            "Digite o número: 5\n",
            "Traceback (most recent call last):\n",
            "  File \"/content/teste_debugs/test_calculadora.py\", line 2, in <module>\n",
            "    from Calculadora import *\n",
            "  File \"/content/teste_debugs/Calculadora.py\", line 108, in <module>\n",
            "    calculadora_cientifica()\n",
            "  File \"/content/teste_debugs/Calculadora.py\", line 87, in calculadora_cientifica\n",
            "    print(\"Resultado:\", logaritmo_natural(x))\n",
            "  File \"/content/teste_debugs/Calculadora.py\", line 32, in logaritmo_natural\n",
            "    return np.ln(x)\n",
            "  File \"/usr/local/lib/python3.10/dist-packages/numpy/__init__.py\", line 333, in __getattr__\n",
            "    raise AttributeError(\"module {!r} has no attribute \"\n",
            "AttributeError: module 'numpy' has no attribute 'ln'\n"
          ]
        }
      ]
    },
    {
      "cell_type": "markdown",
      "source": [
        "# Passo 5: Corrigir os Bugs (Reescrever código)"
      ],
      "metadata": {
        "id": "Cze07lCdR0Xs"
      }
    },
    {
      "cell_type": "code",
      "source": [
        "# Escrevendo testes no arquivo test_calculadora.py\n",
        "%%writefile Calculadora_corrigida.py\n",
        "\n",
        "import numpy as np\n",
        "\n",
        "def adicao(x, y):\n",
        "    return x + y\n",
        "\n",
        "def subtracao(x, y):\n",
        "    return x - y\n",
        "\n",
        "def multiplicacao(x, y):\n",
        "    return np.multiply(x, y)\n",
        "\n",
        "def divisao(x, y):\n",
        "    return x / y\n",
        "\n",
        "def potencia(x, y):\n",
        "    return np.power(x, y)\n",
        "\n",
        "def raiz_quadrada(x):\n",
        "    if x < 0:\n",
        "        return \"Erro: Raiz quadrada de número negativo\"\n",
        "    return np.sqrt(x)\n",
        "\n",
        "def fatorial(x):\n",
        "    if x == 0 or x == 1:\n",
        "        return 1\n",
        "    fat = 1\n",
        "    for i in range(1, x + 1):\n",
        "        fat *= i\n",
        "    return fat\n",
        "\n",
        "\n",
        "def logaritmo_natural(x):\n",
        "    if x <= 0:\n",
        "        return \"Erro: Logaritmo de número não positivo\"\n",
        "    return np.log(x)\n",
        "\n",
        "\n",
        "def logaritmo_base10(x):\n",
        "    if x <= 0:\n",
        "        return \"Erro: Logaritmo de número não positivo\"\n",
        "    return np.log10(x)\n",
        "\n",
        "\n",
        "def menu():\n",
        "    print(\"Bem-vindo à Calculadora Científica\")\n",
        "    print(\"Escolha a operação que deseja realizar:\")\n",
        "    print(\"0. Sair\")\n",
        "    print(\"1. Adição\")\n",
        "    print(\"2. Subtração\")\n",
        "    print(\"3. Multiplicação\")\n",
        "    print(\"4. Divisão\")\n",
        "    print(\"5. Potenciação\")\n",
        "    print(\"6. Raiz Quadrada\")\n",
        "    print(\"7. Fatorial\")\n",
        "    print(\"8. Logaritmo Natural (ln)\")\n",
        "    print(\"9. Logaritmo Base 10\")\n",
        "    print(\"10. Seno\")\n",
        "    print(\"11. Cosseno\")\n",
        "    print(\"12. Tangente\")\n",
        "\n",
        "def calculadora_cientifica():\n",
        "    menu()\n",
        "    escolha = input(\"Digite o número da operação: \")\n",
        "    if escolha == '0':\n",
        "        print(\"Calculadora encerrada.\")\n",
        "        return\n",
        "\n",
        "    elif escolha in ['1', '2', '3', '4', '5']:\n",
        "        x = float(input(\"Digite o primeiro número: \"))\n",
        "        y = float(input(\"Digite o segundo número: \"))\n",
        "        if escolha == '1':\n",
        "            print(\"Resultado:\", adicao(x, y))\n",
        "        elif escolha == '2':\n",
        "            print(\"Resultado:\", subtracao(x, y))\n",
        "        elif escolha == '3':\n",
        "            print(\"Resultado:\", multiplicacao(x, y))\n",
        "        elif escolha == '4':\n",
        "            print(\"Resultado:\", divisao(x, y))\n",
        "        elif escolha == '5':\n",
        "            print(\"Resultado:\", potencia(x, y))\n",
        "\n",
        "    elif escolha == '6':\n",
        "        x = float(input(\"Digite o número: \"))\n",
        "        print(\"Resultado:\", raiz_quadrada(x))\n",
        "\n",
        "    elif escolha == '7':\n",
        "        x = int(input(\"Digite o número: \"))\n",
        "        print(\"Resultado:\", fatorial(x))\n",
        "\n",
        "    elif escolha == '8':\n",
        "        x = float(input(\"Digite o número: \"))\n",
        "        print(\"Resultado:\", logaritmo_natural(x))\n",
        "\n",
        "    elif escolha == '9':\n",
        "        x = float(input(\"Digite o número: \"))\n",
        "        print(\"Resultado:\", logaritmo_base10(x))\n",
        "\n",
        "    elif escolha == '11':\n",
        "        x = float(input(\"Digite o ângulo em graus: \"))\n",
        "        print(\"Resultado:\", cosseno(x))\n",
        "\n",
        "    elif escolha == '12':\n",
        "        x = float(input(\"Digite o ângulo em graus: \"))\n",
        "        print(\"Resultado:\", tangente(x, radianos=False))\n",
        "\n",
        "    else:\n",
        "        print(\"Operação inválida. Tente novamente.\")\n",
        "\n",
        "    continuar = input(\"Deseja realizar outra operação? (s/n): \")\n",
        "    if continuar.lower() == 's':\n",
        "        calculadora_cientifica()\n",
        "\n",
        "calculadora_cientifica()"
      ],
      "metadata": {
        "colab": {
          "base_uri": "https://localhost:8080/"
        },
        "id": "ZahWuSqhPD6l",
        "outputId": "8f2e4d21-b389-41b0-dbac-ec488f05c787"
      },
      "execution_count": 6,
      "outputs": [
        {
          "output_type": "stream",
          "name": "stdout",
          "text": [
            "Writing Calculadora_corrigida.py\n"
          ]
        }
      ]
    },
    {
      "cell_type": "markdown",
      "source": [
        "# Passo 6: Validar as Correções"
      ],
      "metadata": {
        "id": "TaPW0I7fS9FU"
      }
    },
    {
      "cell_type": "code",
      "source": [
        "# Reexecutar os testes\n",
        "!python Calculadora_corrigida.py\n"
      ],
      "metadata": {
        "colab": {
          "base_uri": "https://localhost:8080/"
        },
        "id": "gHOReRLwS7-z",
        "outputId": "92a72487-02ba-4b10-a23a-d6eb6ac0016d"
      },
      "execution_count": 9,
      "outputs": [
        {
          "output_type": "stream",
          "name": "stdout",
          "text": [
            "Bem-vindo à Calculadora Científica\n",
            "Escolha a operação que deseja realizar:\n",
            "0. Sair\n",
            "1. Adição\n",
            "2. Subtração\n",
            "3. Multiplicação\n",
            "4. Divisão\n",
            "5. Potenciação\n",
            "6. Raiz Quadrada\n",
            "7. Fatorial\n",
            "8. Logaritmo Natural (ln)\n",
            "9. Logaritmo Base 10\n",
            "10. Seno\n",
            "11. Cosseno\n",
            "12. Tangente\n",
            "Digite o número da operação: 8\n",
            "Digite o número: 5\n",
            "Resultado: 1.6094379124341003\n",
            "Deseja realizar outra operação? (s/n): n\n"
          ]
        }
      ]
    },
    {
      "cell_type": "markdown",
      "source": [
        "# Passo 7: Documentar e Subir para o GitHub"
      ],
      "metadata": {
        "id": "t-kD-8DFSpKs"
      }
    },
    {
      "cell_type": "code",
      "source": [
        "!git add .\n",
        "!git commit -m \"Corrigidos bugs e adicionados testes com TDD\"\n",
        "!git push origin main\n"
      ],
      "metadata": {
        "colab": {
          "base_uri": "https://localhost:8080/"
        },
        "id": "U3ApOC7GSp_L",
        "outputId": "26892c4f-9521-4a5a-927c-0c5aadfce8b5"
      },
      "execution_count": 7,
      "outputs": [
        {
          "output_type": "stream",
          "name": "stdout",
          "text": [
            "warning: adding embedded git repository: teste_debugs\n",
            "\u001b[33mhint: You've added another git repository inside your current repository.\u001b[m\n",
            "\u001b[33mhint: Clones of the outer repository will not contain the contents of\u001b[m\n",
            "\u001b[33mhint: the embedded repository and will not know how to obtain it.\u001b[m\n",
            "\u001b[33mhint: If you meant to add a submodule, use:\u001b[m\n",
            "\u001b[33mhint: \u001b[m\n",
            "\u001b[33mhint: \tgit submodule add <url> teste_debugs\u001b[m\n",
            "\u001b[33mhint: \u001b[m\n",
            "\u001b[33mhint: If you added this path by mistake, you can remove it from the\u001b[m\n",
            "\u001b[33mhint: index with:\u001b[m\n",
            "\u001b[33mhint: \u001b[m\n",
            "\u001b[33mhint: \tgit rm --cached teste_debugs\u001b[m\n",
            "\u001b[33mhint: \u001b[m\n",
            "\u001b[33mhint: See \"git help submodule\" for more information.\u001b[m\n",
            "Author identity unknown\n",
            "\n",
            "*** Please tell me who you are.\n",
            "\n",
            "Run\n",
            "\n",
            "  git config --global user.email \"you@example.com\"\n",
            "  git config --global user.name \"Your Name\"\n",
            "\n",
            "to set your account's default identity.\n",
            "Omit --global to set the identity only in this repository.\n",
            "\n",
            "fatal: unable to auto-detect email address (got 'root@06a779820a22.(none)')\n",
            "fatal: could not read Username for 'https://github.com': No such device or address\n"
          ]
        }
      ]
    }
  ]
}